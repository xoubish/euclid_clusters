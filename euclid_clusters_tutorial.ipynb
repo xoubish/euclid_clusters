{
  "cells": [
    {
      "cell_type": "markdown",
      "metadata": {},
      "source": [
        "# Euclid Galaxy Clusters Tutorial\n",
        "\n",
        "This notebook provides a step-by-step tutorial for working with Euclid Q1 galaxy cluster data. We'll start by loading the cluster catalog and then explore how to extract related data from various archives.\n",
        "\n",
        "## Table of Contents\n",
        "1. [Loading the Cluster Catalog](#loading-the-cluster-catalog)\n",
        "2. [Data Exploration](#data-exploration)\n",
        "3. [IRSA Archive Data Extraction](#irsa-archive-data-extraction)\n",
        "   - Imaging Data\n",
        "   - Spectroscopic Data\n",
        "   - Catalog Data\n"
      ]
    },
    {
      "cell_type": "markdown",
      "metadata": {},
      "source": [
        "## 1. Loading the Cluster Catalog\n",
        "\n",
        "Let's start by importing the necessary libraries and loading our Euclid Q1 cluster catalog.\n"
      ]
    },
    {
      "cell_type": "code",
      "execution_count": null,
      "metadata": {},
      "outputs": [],
      "source": [
        "# Import necessary libraries\n",
        "import pandas as pd\n",
        "import numpy as np\n",
        "import matplotlib.pyplot as plt\n",
        "import seaborn as sns\n",
        "from astropy import units as u\n",
        "from astropy.coordinates import SkyCoord\n",
        "import warnings\n",
        "warnings.filterwarnings('ignore')\n",
        "\n",
        "# Set up plotting style\n",
        "plt.style.use('default')\n",
        "sns.set_palette(\"husl\")"
      ]
    },
    {
      "cell_type": "code",
      "execution_count": null,
      "metadata": {},
      "outputs": [],
      "source": [
        "# Load the Euclid Q1 cluster catalog\n",
        "df = pd.read_csv('euclid_q1_clusters.csv')\n",
        "\n",
        "print(f\"Loaded {len(df)} clusters from the Euclid Q1 catalog\")\n",
        "print(f\"Dataset shape: {df.shape}\")\n",
        "print(\"\\nColumn names:\")\n",
        "print(df.columns.tolist())\n"
      ]
    }
  ],
  "metadata": {
    "language_info": {
      "name": "python"
    }
  },
  "nbformat": 4,
  "nbformat_minor": 2
}
